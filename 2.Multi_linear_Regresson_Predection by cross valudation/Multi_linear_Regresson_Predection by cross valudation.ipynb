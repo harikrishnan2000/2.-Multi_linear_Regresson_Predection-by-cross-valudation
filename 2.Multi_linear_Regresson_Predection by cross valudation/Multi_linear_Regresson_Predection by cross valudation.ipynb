{
 "cells": [
  {
   "cell_type": "markdown",
   "metadata": {},
   "source": [
    "# Multi linear Regresson Predection"
   ]
  },
  {
   "cell_type": "markdown",
   "metadata": {},
   "source": [
    "### About Project:\n",
    "This project in focused on Multi linear Regresson Predection using different methods\n",
    "### About Data:\n",
    "Many factors that affect how much you pay for health insurance are not within your control. Nonetheless, it's good to have an understanding of what they are. Here are some factors that affect how much health insurance premiums cost\n",
    "\n",
    "age: age of primary beneficiary\n",
    "\n",
    "sex: insurance contractor gender, female, male\n",
    "\n",
    "bmi: Body mass index, providing an understanding of body, weights that are relatively high or low relative to height, objective index of body weight (kg / m ^ 2) using the ratio of height to weight, ideally 18.5 to 24.9\n",
    "\n",
    "children: Number of children covered by health insurance / Number of dependents\n",
    "\n",
    "smoker: Smoking\n",
    "\n",
    "region: the beneficiary's residential area in the US, northeast, southeast, southwest, northwest"
   ]
  },
  {
   "cell_type": "markdown",
   "metadata": {},
   "source": [
    "## Preprocessing the Data"
   ]
  },
  {
   "cell_type": "markdown",
   "metadata": {},
   "source": [
    "#### 1.Importing the requred"
   ]
  },
  {
   "cell_type": "code",
   "execution_count": 1,
   "metadata": {},
   "outputs": [],
   "source": [
    "import warnings\n",
    "warnings.filterwarnings(\"ignore\")"
   ]
  },
  {
   "cell_type": "code",
   "execution_count": 2,
   "metadata": {},
   "outputs": [],
   "source": [
    "import pandas as pd\n",
    "import numpy as np\n",
    "import matplotlib.pyplot as plt\n",
    "import seaborn as sns"
   ]
  },
  {
   "cell_type": "code",
   "execution_count": 3,
   "metadata": {},
   "outputs": [],
   "source": [
    "from sklearn.model_selection import train_test_split\n",
    "from sklearn.model_selection import cross_val_score"
   ]
  },
  {
   "cell_type": "code",
   "execution_count": 4,
   "metadata": {},
   "outputs": [],
   "source": [
    "from sklearn.linear_model import LinearRegression\n",
    "from sklearn.linear_model import Ridge\n",
    "from sklearn.linear_model import Lasso\n",
    "from sklearn.preprocessing import PolynomialFeatures\n",
    "from sklearn.metrics import confusion_matrix\n",
    "from sklearn import metrics"
   ]
  },
  {
   "cell_type": "markdown",
   "metadata": {},
   "source": [
    "#### 2.Importing the table"
   ]
  },
  {
   "cell_type": "code",
   "execution_count": 5,
   "metadata": {
    "collapsed": true
   },
   "outputs": [
    {
     "name": "stdout",
     "output_type": "stream",
     "text": [
      "   age     sex     bmi  children smoker     region      charges\n",
      "0   19  female  27.900         0    yes  southwest  16884.92400\n",
      "1   18    male  33.770         1     no  southeast   1725.55230\n",
      "2   28    male  33.000         3     no  southeast   4449.46200\n",
      "3   33    male  22.705         0     no  northwest  21984.47061\n",
      "4   32    male  28.880         0     no  northwest   3866.85520\n",
      "-----------------------------------------------------------------------------------------------\n",
      "Columns names\n",
      "Index(['age', 'sex', 'bmi', 'children', 'smoker', 'region', 'charges'], dtype='object')\n"
     ]
    }
   ],
   "source": [
    "df=pd.read_csv(\"insurance.csv\")\n",
    "print(df.head())\n",
    "print(\"-----------------------------------------------------------------------------------------------\")\n",
    "print(\"Columns names\")\n",
    "print(df.columns)"
   ]
  },
  {
   "cell_type": "markdown",
   "metadata": {},
   "source": [
    "#### 3.Describing data"
   ]
  },
  {
   "cell_type": "code",
   "execution_count": 6,
   "metadata": {
    "collapsed": true
   },
   "outputs": [
    {
     "name": "stdout",
     "output_type": "stream",
     "text": [
      "Data Description\n",
      "               age          bmi     children       charges\n",
      "count  1338.000000  1338.000000  1338.000000   1338.000000\n",
      "mean     39.207025    30.663397     1.094918  13270.422265\n",
      "std      14.049960     6.098187     1.205493  12110.011237\n",
      "min      18.000000    15.960000     0.000000   1121.873900\n",
      "25%      27.000000    26.296250     0.000000   4740.287150\n",
      "50%      39.000000    30.400000     1.000000   9382.033000\n",
      "75%      51.000000    34.693750     2.000000  16639.912515\n",
      "max      64.000000    53.130000     5.000000  63770.428010\n",
      "-----------------------------------------------------------------------------------------------\n",
      "Number of rows and columns\n",
      "(1338, 7)\n",
      "-----------------------------------------------------------------------------------------------\n",
      "data information\n",
      "<class 'pandas.core.frame.DataFrame'>\n",
      "RangeIndex: 1338 entries, 0 to 1337\n",
      "Data columns (total 7 columns):\n",
      " #   Column    Non-Null Count  Dtype  \n",
      "---  ------    --------------  -----  \n",
      " 0   age       1338 non-null   int64  \n",
      " 1   sex       1338 non-null   object \n",
      " 2   bmi       1338 non-null   float64\n",
      " 3   children  1338 non-null   int64  \n",
      " 4   smoker    1338 non-null   object \n",
      " 5   region    1338 non-null   object \n",
      " 6   charges   1338 non-null   float64\n",
      "dtypes: float64(2), int64(2), object(3)\n",
      "memory usage: 73.3+ KB\n",
      "None\n",
      "-----------------------------------------------------------------------------------------------\n"
     ]
    }
   ],
   "source": [
    "print(\"Data Description\")\n",
    "print(df.describe())\n",
    "print(\"-----------------------------------------------------------------------------------------------\")\n",
    "print(\"Number of rows and columns\")\n",
    "print(df.shape)\n",
    "print(\"-----------------------------------------------------------------------------------------------\")\n",
    "print(\"data information\")\n",
    "print(df.info())\n",
    "print(\"-----------------------------------------------------------------------------------------------\")"
   ]
  },
  {
   "cell_type": "markdown",
   "metadata": {},
   "source": [
    "#### 4.Checking for Nulldata"
   ]
  },
  {
   "cell_type": "code",
   "execution_count": 7,
   "metadata": {
    "collapsed": true
   },
   "outputs": [
    {
     "name": "stdout",
     "output_type": "stream",
     "text": [
      "Data percentaile\n",
      "               age          bmi     children       charges\n",
      "count  1338.000000  1338.000000  1338.000000   1338.000000\n",
      "mean     39.207025    30.663397     1.094918  13270.422265\n",
      "std      14.049960     6.098187     1.205493  12110.011237\n",
      "min      18.000000    15.960000     0.000000   1121.873900\n",
      "1%       18.000000    17.895150     0.000000   1252.972730\n",
      "2%       18.000000    19.271400     0.000000   1621.741650\n",
      "3%       18.000000    19.960450     0.000000   1636.154889\n",
      "4%       18.000000    20.520000     0.000000   1709.934254\n",
      "5%       18.000000    21.256000     0.000000   1757.753400\n",
      "6%       19.000000    21.660000     0.000000   1907.055474\n",
      "7%       19.000000    21.873600     0.000000   2020.398427\n",
      "8%       19.000000    22.300000     0.000000   2138.054016\n",
      "9%       19.000000    22.610000     0.000000   2208.830439\n",
      "10%      19.000000    22.990000     0.000000   2346.533615\n",
      "20%      24.000000    25.326000     0.000000   3991.575720\n",
      "30%      29.000000    27.360000     0.000000   5484.846770\n",
      "40%      34.000000    28.797000     0.000000   7369.052730\n",
      "50%      39.000000    30.400000     1.000000   9382.033000\n",
      "60%      44.000000    32.032000     1.000000  11399.857160\n",
      "70%      49.000000    33.660000     2.000000  13767.875345\n",
      "80%      54.000000    35.860000     2.000000  20260.626406\n",
      "90%      59.000000    38.619500     3.000000  34831.719700\n",
      "max      64.000000    53.130000     5.000000  63770.428010\n",
      "-----------------------------------------------------------------------------------------------\n",
      "Checking for null\n",
      "age         0\n",
      "sex         0\n",
      "bmi         0\n",
      "children    0\n",
      "smoker      0\n",
      "region      0\n",
      "charges     0\n",
      "dtype: int64\n",
      "there is no null or missing data in the selected sourse\n"
     ]
    }
   ],
   "source": [
    "print(\"Data percentaile\")\n",
    "print(df.describe(percentiles=[0.01,0.02,0.03,0.04,0.05,0.06,0.07,0.08,0.09,0.1,0.2,0.3,0.4,0.5,0.6,0.7,0.8,0.9]))\n",
    "print(\"-----------------------------------------------------------------------------------------------\")\n",
    "print(\"Checking for null\")\n",
    "print(df.isnull().sum())\n",
    "#after varyfing the data we found that there is no missing of data\n",
    "print(\"there is no null or missing data in the selected sourse\")"
   ]
  },
  {
   "cell_type": "markdown",
   "metadata": {},
   "source": [
    "#### 5.Changeing the Datatypes"
   ]
  },
  {
   "cell_type": "code",
   "execution_count": 8,
   "metadata": {},
   "outputs": [
    {
     "name": "stdout",
     "output_type": "stream",
     "text": [
      "age            int64\n",
      "sex         category\n",
      "bmi          float64\n",
      "children       int64\n",
      "smoker      category\n",
      "region      category\n",
      "charges      float64\n",
      "dtype: object\n"
     ]
    }
   ],
   "source": [
    "df[['sex', 'smoker', 'region']] = df[['sex', 'smoker', 'region']].astype('category')\n",
    "print(df.dtypes)"
   ]
  },
  {
   "cell_type": "code",
   "execution_count": 9,
   "metadata": {},
   "outputs": [
    {
     "name": "stdout",
     "output_type": "stream",
     "text": [
      "age           int64\n",
      "sex           int32\n",
      "bmi         float64\n",
      "children      int64\n",
      "smoker        int32\n",
      "region        int32\n",
      "charges     float64\n",
      "dtype: object\n"
     ]
    }
   ],
   "source": [
    "from sklearn.preprocessing import LabelEncoder\n",
    "label = LabelEncoder()\n",
    "label.fit(df.sex.drop_duplicates())\n",
    "df.sex = label.transform(df.sex)\n",
    "label.fit(df.smoker.drop_duplicates())\n",
    "df.smoker = label.transform(df.smoker)\n",
    "label.fit(df.region.drop_duplicates())\n",
    "df.region = label.transform(df.region)\n",
    "print(df.dtypes)"
   ]
  },
  {
   "cell_type": "markdown",
   "metadata": {},
   "source": [
    "#### 6.Finding the outlayers and reworking with the Median(Using pandas bond method)"
   ]
  },
  {
   "cell_type": "code",
   "execution_count": 10,
   "metadata": {
    "collapsed": true
   },
   "outputs": [
    {
     "name": "stdout",
     "output_type": "stream",
     "text": [
      "age            24.000000\n",
      "sex             1.000000\n",
      "bmi             8.397500\n",
      "children        2.000000\n",
      "smoker          0.000000\n",
      "region          1.000000\n",
      "charges     11899.625365\n",
      "dtype: float64\n"
     ]
    }
   ],
   "source": [
    "Q1 = df.quantile(0.25)\n",
    "Q3 = df.quantile(0.75)\n",
    "IQR = Q3 - Q1\n",
    "print(IQR)"
   ]
  },
  {
   "cell_type": "code",
   "execution_count": 11,
   "metadata": {},
   "outputs": [
    {
     "name": "stdout",
     "output_type": "stream",
     "text": [
      "     age    sex    bmi  children  smoker  region  charges\n",
      "0  False  False  False     False    True   False    False\n",
      "1  False  False  False     False   False   False    False\n",
      "2  False  False  False     False   False   False    False\n"
     ]
    }
   ],
   "source": [
    "print(((df < (Q1 - 1.5 * IQR)) |(df > (Q3 + 1.5 * IQR))).head(3))"
   ]
  },
  {
   "cell_type": "code",
   "execution_count": 12,
   "metadata": {
    "collapsed": true
   },
   "outputs": [
    {
     "name": "stdout",
     "output_type": "stream",
     "text": [
      "               age          sex          bmi     children       smoker  \\\n",
      "count  1338.000000  1338.000000  1338.000000  1338.000000  1338.000000   \n",
      "mean     39.207025     0.505232    30.663397     1.094918     0.204783   \n",
      "std      14.049960     0.500160     6.098187     1.205493     0.403694   \n",
      "min      18.000000     0.000000    15.960000     0.000000     0.000000   \n",
      "25%      27.000000     0.000000    26.296250     0.000000     0.000000   \n",
      "50%      39.000000     1.000000    30.400000     1.000000     0.000000   \n",
      "75%      51.000000     1.000000    34.693750     2.000000     0.000000   \n",
      "max      64.000000     1.000000    53.130000     5.000000     1.000000   \n",
      "\n",
      "            region       charges  \n",
      "count  1338.000000   1338.000000  \n",
      "mean      1.515695  12166.938919  \n",
      "std       1.104885   8821.139504  \n",
      "min       0.000000   2352.968450  \n",
      "25%       1.000000   6549.083813  \n",
      "50%       2.000000   9381.000925  \n",
      "75%       2.000000  13764.541512  \n",
      "max       3.000000  41097.161750  \n",
      "(1338, 7)\n"
     ]
    }
   ],
   "source": [
    "median=(df['charges'].quantile(0.50)) \n",
    "Max=(df['charges'].quantile(0.95)) \n",
    "df['charges'] = np.where(df['charges'] > Max, median, df['charges'])\n",
    "\n",
    "median=(df['charges'].quantile(0.50)) \n",
    "Min=(df['charges'].quantile(0.1)) \n",
    "df['charges'] = np.where(df['charges'] < Min, median, df['charges'])\n",
    "print(df.describe())\n",
    "print(df.shape)"
   ]
  },
  {
   "cell_type": "markdown",
   "metadata": {},
   "source": [
    "## Visualizeing and Analysing the Data"
   ]
  },
  {
   "cell_type": "markdown",
   "metadata": {},
   "source": [
    "#### 1.Visualizing data"
   ]
  },
  {
   "cell_type": "markdown",
   "metadata": {},
   "source": [
    "##### 1.1 Depicts the variation in the data distribution"
   ]
  },
  {
   "cell_type": "code",
   "execution_count": 13,
   "metadata": {
    "scrolled": false
   },
   "outputs": [
    {
     "data": {
      "image/png": "[encoded data removed]",
      "text/plain": [
       "<Figure size 360x360 with 1 Axes>"
      ]
     },
     "metadata": {
      "needs_background": "light"
     },
     "output_type": "display_data"
    },
    {
     "name": "stdout",
     "output_type": "stream",
     "text": [
      "-----------------------------------------------------------------------------------------------\n"
     ]
    },
    {
     "data": {
      "image/png": "[encoded data removed]",
      "text/plain": [
       "<Figure size 360x360 with 1 Axes>"
      ]
     },
     "metadata": {
      "needs_background": "light"
     },
     "output_type": "display_data"
    }
   ],
   "source": [
    "sns.displot(data=df,x=\"charges\")\n",
    "plt.title(\"Distrubtion of charges\")\n",
    "plt.show()\n",
    "print(\"-----------------------------------------------------------------------------------------------\")\n",
    "sns.displot(np.log10(df[\"charges\"]))\n",
    "plt.title(\"Distrubtion of charges by log to the base 10\")\n",
    "plt.show()"
   ]
  },
  {
   "cell_type": "markdown",
   "metadata": {},
   "source": [
    "So overall the highest medical charges are in the Southeast and the lowest are in the Southwest. Taking into account certain factors (sex, smoking, having children) let's see how it changes by region"
   ]
  },
  {
   "cell_type": "markdown",
   "metadata": {},
   "source": [
    "##### 1.2 Presenting categorical data with rectangular bars proportional to the values that they represent"
   ]
  },
  {
   "cell_type": "code",
   "execution_count": 14,
   "metadata": {
    "scrolled": false
   },
   "outputs": [
    {
     "data": {
      "image/png": "[encoded data removed]",
      "text/plain": [
       "<Figure size 1080x360 with 1 Axes>"
      ]
     },
     "metadata": {
      "needs_background": "light"
     },
     "output_type": "display_data"
    },
    {
     "name": "stdout",
     "output_type": "stream",
     "text": [
      "----------------------------------------------------------------------------------------------------------\n"
     ]
    },
    {
     "data": {
      "image/png": "[encoded data removed]",
      "text/plain": [
       "<Figure size 1080x360 with 1 Axes>"
      ]
     },
     "metadata": {
      "needs_background": "light"
     },
     "output_type": "display_data"
    },
    {
     "name": "stdout",
     "output_type": "stream",
     "text": [
      "----------------------------------------------------------------------------------------------------------\n"
     ]
    },
    {
     "data": {
      "image/png": "[encoded data removed]",
      "text/plain": [
       "<Figure size 1080x360 with 1 Axes>"
      ]
     },
     "metadata": {
      "needs_background": "light"
     },
     "output_type": "display_data"
    },
    {
     "name": "stdout",
     "output_type": "stream",
     "text": [
      "----------------------------------------------------------------------------------------------------------\n"
     ]
    },
    {
     "data": {
      "image/png": "[encoded data removed]",
      "text/plain": [
       "<Figure size 1080x360 with 1 Axes>"
      ]
     },
     "metadata": {
      "needs_background": "light"
     },
     "output_type": "display_data"
    }
   ],
   "source": [
    "plt.figure(figsize=[15,5])\n",
    "sns.barplot(data=df,x=\"region\",y=\"charges\")\n",
    "plt.title(\"charges got in the different religion\")\n",
    "plt.show()\n",
    "print(\"----------------------------------------------------------------------------------------------------------\")\n",
    "plt.figure(figsize=[15,5])\n",
    "sns.barplot(data=df,x=\"region\",y=\"charges\",hue=\"sex\")\n",
    "plt.title(\"charges got in the different religion\")\n",
    "plt.show()\n",
    "print(\"----------------------------------------------------------------------------------------------------------\")\n",
    "plt.figure(figsize=[15,5])\n",
    "sns.barplot(data=df,x=\"region\",y=\"charges\",hue=\"smoker\")\n",
    "plt.title(\"charges got in the different religion\")\n",
    "plt.show()\n",
    "print(\"----------------------------------------------------------------------------------------------------------\")\n",
    "plt.figure(figsize=[15,5])\n",
    "sns.barplot(data=df,x=\"region\",y=\"charges\",hue=\"children\")\n",
    "plt.title(\"charges got in the different religion\")\n",
    "plt.show()"
   ]
  },
  {
   "cell_type": "markdown",
   "metadata": {},
   "source": [
    "As we can see from these barplots the highest charges due to smoking are still in the Southeast but the lowest are in the Northeast. People in the Southwest generally smoke more than people in the Northeast, but people in the Northeast have higher charges by gender than in the Southwest and Northwest overall. And people with children tend to have higher medical costs overall as well"
   ]
  },
  {
   "cell_type": "markdown",
   "metadata": {},
   "source": [
    "##### 1.3 Drawing a scatter plot onto a FacetGrid"
   ]
  },
  {
   "cell_type": "code",
   "execution_count": 15,
   "metadata": {
    "scrolled": false
   },
   "outputs": [
    {
     "data": {
      "image/png": "[encoded data removed]",
      "text/plain": [
       "<Figure size 404.5x360 with 1 Axes>"
      ]
     },
     "metadata": {
      "needs_background": "light"
     },
     "output_type": "display_data"
    },
    {
     "name": "stdout",
     "output_type": "stream",
     "text": [
      "----------------------------------------------------------------------------------------------------------\n"
     ]
    },
    {
     "data": {
      "image/png": "[encoded data removed]",
      "text/plain": [
       "<Figure size 404.5x360 with 1 Axes>"
      ]
     },
     "metadata": {
      "needs_background": "light"
     },
     "output_type": "display_data"
    },
    {
     "name": "stdout",
     "output_type": "stream",
     "text": [
      "----------------------------------------------------------------------------------------------------------\n"
     ]
    },
    {
     "data": {
      "image/png": "[encoded data removed]",
      "text/plain": [
       "<Figure size 404.5x360 with 1 Axes>"
      ]
     },
     "metadata": {
      "needs_background": "light"
     },
     "output_type": "display_data"
    }
   ],
   "source": [
    "sns.lmplot(data=df,x=\"charges\",y=\"bmi\",hue=\"smoker\")\n",
    "plt.title(\"Charges accourding to boby mass index(BMI)\")\n",
    "plt.show()\n",
    "print(\"----------------------------------------------------------------------------------------------------------\")\n",
    "sns.lmplot(data=df,x=\"charges\",y=\"children\",hue=\"smoker\")\n",
    "plt.title(\"Charges accourding to boby mass index(BMI)\")\n",
    "plt.show()\n",
    "print(\"----------------------------------------------------------------------------------------------------------\")\n",
    "sns.lmplot(data=df,x=\"charges\",y=\"age\",hue=\"smoker\")\n",
    "plt.title(\"Charges accourding to boby mass index(BMI)\")\n",
    "plt.show()"
   ]
  },
  {
   "cell_type": "markdown",
   "metadata": {},
   "source": [
    "Smoking has the highest impact on medical costs, even though the costs are growing with age, bmi and children. Also people who have children generally smoke less, which the following violinplots shows too"
   ]
  },
  {
   "cell_type": "markdown",
   "metadata": {},
   "source": [
    "##### 1.4 Visualizeing the strength of relationships between numerical variables."
   ]
  },
  {
   "cell_type": "code",
   "execution_count": 16,
   "metadata": {
    "scrolled": false
   },
   "outputs": [
    {
     "data": {
      "image/png": "[encoded data removed]",
      "text/plain": [
       "<Figure size 648x432 with 2 Axes>"
      ]
     },
     "metadata": {
      "needs_background": "light"
     },
     "output_type": "display_data"
    }
   ],
   "source": [
    "plt.figure(figsize=[9,6])\n",
    "corr=df.corr()\n",
    "sns.heatmap(data=corr,annot=True)\n",
    "plt.show()"
   ]
  },
  {
   "cell_type": "markdown",
   "metadata": {},
   "source": [
    "#### 2.Spliting my dependent (y) and indipendent feature (x)"
   ]
  },
  {
   "cell_type": "code",
   "execution_count": 17,
   "metadata": {
    "collapsed": true
   },
   "outputs": [
    {
     "name": "stdout",
     "output_type": "stream",
     "text": [
      "INDIPENDENT VARIABLE (x)\n",
      "      age  sex     bmi  children  smoker  region\n",
      "0      19    0  27.900         0       1       3\n",
      "1      18    1  33.770         1       0       2\n",
      "2      28    1  33.000         3       0       2\n",
      "3      33    1  22.705         0       0       1\n",
      "4      32    1  28.880         0       0       1\n",
      "...   ...  ...     ...       ...     ...     ...\n",
      "1333   50    1  30.970         3       0       1\n",
      "1334   18    0  31.920         0       0       0\n",
      "1335   18    0  36.850         0       0       2\n",
      "1336   21    0  25.800         0       0       3\n",
      "1337   61    0  29.070         0       1       1\n",
      "\n",
      "[1338 rows x 6 columns]\n",
      "----------------------------------------------------------------------------------------------------------\n",
      "DIPENDENT VARIABLE (y)\n",
      "          charges\n",
      "0     16884.92400\n",
      "1      9379.96885\n",
      "2      4449.46200\n",
      "3     21984.47061\n",
      "4      3866.85520\n",
      "...           ...\n",
      "1333  10600.54830\n",
      "1334   9379.96885\n",
      "1335   9379.96885\n",
      "1336   9379.96885\n",
      "1337  29141.36030\n",
      "\n",
      "[1338 rows x 1 columns]\n"
     ]
    }
   ],
   "source": [
    "x=df.drop([\"charges\"],axis=1)\n",
    "y=df.loc[:,(\"charges\")]\n",
    "y=pd.DataFrame(y)\n",
    "print(\"INDIPENDENT VARIABLE (x)\")\n",
    "print(x)\n",
    "print(\"----------------------------------------------------------------------------------------------------------\")\n",
    "print(\"DIPENDENT VARIABLE (y)\")\n",
    "print(y)"
   ]
  },
  {
   "cell_type": "markdown",
   "metadata": {},
   "source": [
    "#### 3.Spliting the Data for training as 80% and testing as 20%"
   ]
  },
  {
   "cell_type": "code",
   "execution_count": 18,
   "metadata": {
    "collapsed": true
   },
   "outputs": [
    {
     "name": "stdout",
     "output_type": "stream",
     "text": [
      "      age  sex     bmi  children  smoker  region\n",
      "621    37    1  34.100         4       1       3\n",
      "194    18    1  34.430         0       0       2\n",
      "240    23    0  36.670         2       1       0\n",
      "1168   32    1  35.200         2       0       3\n",
      "1192   58    0  32.395         1       0       0\n",
      "...   ...  ...     ...       ...     ...     ...\n",
      "763    27    1  26.030         0       0       0\n",
      "835    42    1  35.970         2       0       2\n",
      "1216   40    1  25.080         0       0       2\n",
      "559    19    1  35.530         0       0       1\n",
      "684    33    0  18.500         1       0       3\n",
      "\n",
      "[1070 rows x 6 columns]\n",
      "      age  sex     bmi  children  smoker  region\n",
      "578    52    1  30.200         1       0       3\n",
      "610    47    0  29.370         1       0       2\n",
      "569    48    1  40.565         2       1       1\n",
      "1034   61    1  38.380         0       0       1\n",
      "198    51    0  18.050         0       0       1\n",
      "...   ...  ...     ...       ...     ...     ...\n",
      "1084   62    0  30.495         2       0       1\n",
      "726    41    1  28.405         1       0       1\n",
      "1132   57    1  40.280         0       0       0\n",
      "725    30    0  39.050         3       1       2\n",
      "963    46    1  24.795         3       0       0\n",
      "\n",
      "[268 rows x 6 columns]\n",
      "          charges\n",
      "621   40182.24600\n",
      "194    9379.96885\n",
      "240   38511.62830\n",
      "1168   4670.64000\n",
      "1192  13019.16105\n",
      "...           ...\n",
      "763    3070.80870\n",
      "835    7160.33030\n",
      "1216   5415.66120\n",
      "559    9379.96885\n",
      "684    4766.02200\n",
      "\n",
      "[1070 rows x 1 columns]\n",
      "          charges\n",
      "578    9724.53000\n",
      "610    8547.69130\n",
      "569    9382.03300\n",
      "1034  12950.07120\n",
      "198    9644.25250\n",
      "...           ...\n",
      "1084  15019.76005\n",
      "726    6664.68595\n",
      "1132  20709.02034\n",
      "725   40932.42950\n",
      "963    9500.57305\n",
      "\n",
      "[268 rows x 1 columns]\n"
     ]
    }
   ],
   "source": [
    "x_train,x_test,y_train,y_test=train_test_split(x,y,test_size=0.2,random_state=0)\n",
    "print(x_train)\n",
    "print(x_test)\n",
    "print(y_train)\n",
    "print(y_test)"
   ]
  },
  {
   "cell_type": "markdown",
   "metadata": {},
   "source": [
    "## Working on Regression"
   ]
  },
  {
   "cell_type": "markdown",
   "metadata": {},
   "source": [
    "#### 1.LInear Regression"
   ]
  },
  {
   "cell_type": "code",
   "execution_count": 19,
   "metadata": {},
   "outputs": [
    {
     "name": "stdout",
     "output_type": "stream",
     "text": [
      "[[   92.20577807   326.62612326    42.69456098   -52.22673168\n",
      "  13778.72270588   -89.44021555]]\n"
     ]
    }
   ],
   "source": [
    "lin_reg=LinearRegression()\n",
    "lin_reg.fit(x_train,y_train)\n",
    "lin_pred=lin_reg.predict(x_test)\n",
    "print(lin_reg.coef_)"
   ]
  },
  {
   "cell_type": "markdown",
   "metadata": {},
   "source": [
    "#### 2.Ridge Regression"
   ]
  },
  {
   "cell_type": "code",
   "execution_count": 20,
   "metadata": {},
   "outputs": [
    {
     "name": "stdout",
     "output_type": "stream",
     "text": [
      "[[   92.08922322   328.60883905    42.63024853   -51.41653883\n",
      "  13699.60539024   -90.1218026 ]]\n"
     ]
    }
   ],
   "source": [
    "ridge = Ridge()\n",
    "ridge.fit(x_train,y_train)\n",
    "ridge_pred=ridge.predict(x_test)\n",
    "print(ridge.coef_)"
   ]
  },
  {
   "cell_type": "markdown",
   "metadata": {},
   "source": [
    "#### 3.Lasso Regression"
   ]
  },
  {
   "cell_type": "code",
   "execution_count": 21,
   "metadata": {},
   "outputs": [
    {
     "name": "stdout",
     "output_type": "stream",
     "text": [
      "[[   92.08922322   328.60883905    42.63024853   -51.41653883\n",
      "  13699.60539024   -90.1218026 ]]\n"
     ]
    }
   ],
   "source": [
    "lassco=Lasso()\n",
    "lassco.fit(x_train,y_train)\n",
    "lassco_pred=lassco.predict(x_test)\n",
    "print(ridge.coef_)"
   ]
  },
  {
   "cell_type": "markdown",
   "metadata": {},
   "source": [
    "#### 4.Polynomial Regression"
   ]
  },
  {
   "cell_type": "markdown",
   "metadata": {},
   "source": [
    "##### 4.1 Preparing data for Polynomial regression"
   ]
  },
  {
   "cell_type": "code",
   "execution_count": 22,
   "metadata": {
    "collapsed": true
   },
   "outputs": [
    {
     "name": "stdout",
     "output_type": "stream",
     "text": [
      "       0     1       2    3       4        5      6            7        8   \\\n",
      "0     1.0  37.0  34.100  4.0  1369.0  1261.70  148.0  1162.810000  136.400   \n",
      "1     1.0  18.0  34.430  0.0   324.0   619.74    0.0  1185.424900    0.000   \n",
      "2     1.0  23.0  36.670  2.0   529.0   843.41   46.0  1344.688900   73.340   \n",
      "3     1.0  32.0  35.200  2.0  1024.0  1126.40   64.0  1239.040000   70.400   \n",
      "4     1.0  58.0  32.395  1.0  3364.0  1878.91   58.0  1049.436025   32.395   \n",
      "...   ...   ...     ...  ...     ...      ...    ...          ...      ...   \n",
      "1065  1.0  27.0  26.030  0.0   729.0   702.81    0.0   677.560900    0.000   \n",
      "1066  1.0  42.0  35.970  2.0  1764.0  1510.74   84.0  1293.840900   71.940   \n",
      "1067  1.0  40.0  25.080  0.0  1600.0  1003.20    0.0   629.006400    0.000   \n",
      "1068  1.0  19.0  35.530  0.0   361.0   675.07    0.0  1262.380900    0.000   \n",
      "1069  1.0  33.0  18.500  1.0  1089.0   610.50   33.0   342.250000   18.500   \n",
      "\n",
      "        9   ...       25            26            27        28      29  \\\n",
      "0     16.0  ...  21904.0  1.467117e+06  172095.88000  20187.20  2368.0   \n",
      "1      0.0  ...      0.0  7.346552e+05       0.00000      0.00     0.0   \n",
      "2      4.0  ...   2116.0  1.134124e+06   61855.68940   3373.64   184.0   \n",
      "3      4.0  ...   4096.0  1.395655e+06   79298.56000   4505.60   256.0   \n",
      "4      1.0  ...   3364.0  1.971796e+06   60867.28945   1878.91    58.0   \n",
      "...    ...  ...      ...           ...           ...       ...     ...   \n",
      "1065   0.0  ...      0.0  4.761966e+05       0.00000      0.00     0.0   \n",
      "1066   4.0  ...   7056.0  1.954657e+06  108682.63560   6042.96   336.0   \n",
      "1067   0.0  ...      0.0  6.310192e+05       0.00000      0.00     0.0   \n",
      "1068   0.0  ...      0.0  8.521955e+05       0.00000      0.00     0.0   \n",
      "1069   1.0  ...   1089.0  2.089436e+05   11294.25000    610.50    33.0   \n",
      "\n",
      "                30             31            32        33     34  \n",
      "0     1.352127e+06  158607.284000  18604.960000  2182.400  256.0  \n",
      "1     1.405232e+06       0.000000      0.000000     0.000    0.0  \n",
      "2     1.808188e+06   98619.483926   5378.755600   293.360   16.0  \n",
      "3     1.535220e+06   87228.416000   4956.160000   281.600   16.0  \n",
      "4     1.101316e+06   33996.480030   1049.436025    32.395    1.0  \n",
      "...            ...            ...           ...       ...    ...  \n",
      "1065  4.590888e+05       0.000000      0.000000     0.000    0.0  \n",
      "1066  1.674024e+06   93078.914346   5175.363600   287.760   16.0  \n",
      "1067  3.956491e+05       0.000000      0.000000     0.000    0.0  \n",
      "1068  1.593606e+06       0.000000      0.000000     0.000    0.0  \n",
      "1069  1.171351e+05    6331.625000    342.250000    18.500    1.0  \n",
      "\n",
      "[1070 rows x 35 columns]\n",
      "      0     1       2    3       4         5      6            7        8   \\\n",
      "0    1.0  52.0  30.200  1.0  2704.0  1570.400   52.0   912.040000   30.200   \n",
      "1    1.0  47.0  29.370  1.0  2209.0  1380.390   47.0   862.596900   29.370   \n",
      "2    1.0  48.0  40.565  2.0  2304.0  1947.120   96.0  1645.519225   81.130   \n",
      "3    1.0  61.0  38.380  0.0  3721.0  2341.180    0.0  1473.024400    0.000   \n",
      "4    1.0  51.0  18.050  0.0  2601.0   920.550    0.0   325.802500    0.000   \n",
      "..   ...   ...     ...  ...     ...       ...    ...          ...      ...   \n",
      "263  1.0  62.0  30.495  2.0  3844.0  1890.690  124.0   929.945025   60.990   \n",
      "264  1.0  41.0  28.405  1.0  1681.0  1164.605   41.0   806.844025   28.405   \n",
      "265  1.0  57.0  40.280  0.0  3249.0  2295.960    0.0  1622.478400    0.000   \n",
      "266  1.0  30.0  39.050  3.0   900.0  1171.500   90.0  1524.902500  117.150   \n",
      "267  1.0  46.0  24.795  3.0  2116.0  1140.570  138.0   614.792025   74.385   \n",
      "\n",
      "      9   ...       25            26             27         28      29  \\\n",
      "0    1.0  ...   2704.0  1.432268e+06   47426.080000   1570.400    52.0   \n",
      "1    1.0  ...   2209.0  1.190720e+06   40542.054300   1380.390    47.0   \n",
      "2    4.0  ...   9216.0  3.204023e+06  157969.845600   7788.480   384.0   \n",
      "3    0.0  ...      0.0  3.448615e+06       0.000000      0.000     0.0   \n",
      "4    0.0  ...      0.0  2.999175e+05       0.000000      0.000     0.0   \n",
      "..   ...  ...      ...           ...            ...        ...     ...   \n",
      "263  4.0  ...  15376.0  1.758238e+06  115313.183100   7562.760   496.0   \n",
      "264  1.0  ...   1681.0  9.396546e+05   33080.605025   1164.605    41.0   \n",
      "265  0.0  ...      0.0  3.725146e+06       0.000000      0.000     0.0   \n",
      "266  9.0  ...   8100.0  1.786423e+06  137241.225000  10543.500   810.0   \n",
      "267  9.0  ...  19044.0  7.012133e+05   84841.299450  10265.130  1242.0   \n",
      "\n",
      "               30             31            32        33    34  \n",
      "0    8.318170e+05   27543.608000    912.040000    30.200   1.0  \n",
      "1    7.440734e+05   25334.470953    862.596900    29.370   1.0  \n",
      "2    2.707734e+06  133500.974724   6582.076900   324.520  16.0  \n",
      "3    2.169801e+06       0.000000      0.000000     0.000   0.0  \n",
      "4    1.061473e+05       0.000000      0.000000     0.000   0.0  \n",
      "..            ...            ...           ...       ...   ...  \n",
      "263  8.647977e+05   56717.347075   3719.780100   243.960  16.0  \n",
      "264  6.509973e+05   22918.404530    806.844025    28.405   1.0  \n",
      "265  2.632436e+06       0.000000      0.000000     0.000   0.0  \n",
      "266  2.325328e+06  178642.327875  13724.122500  1054.350  81.0  \n",
      "267  3.779692e+05   45731.304780   5533.128225   669.465  81.0  \n",
      "\n",
      "[268 rows x 35 columns]\n",
      "          charges\n",
      "621   40182.24600\n",
      "194    9379.96885\n",
      "240   38511.62830\n",
      "1168   4670.64000\n",
      "1192  13019.16105\n",
      "...           ...\n",
      "763    3070.80870\n",
      "835    7160.33030\n",
      "1216   5415.66120\n",
      "559    9379.96885\n",
      "684    4766.02200\n",
      "\n",
      "[1070 rows x 1 columns]\n",
      "          charges\n",
      "578    9724.53000\n",
      "610    8547.69130\n",
      "569    9382.03300\n",
      "1034  12950.07120\n",
      "198    9644.25250\n",
      "...           ...\n",
      "1084  15019.76005\n",
      "726    6664.68595\n",
      "1132  20709.02034\n",
      "725   40932.42950\n",
      "963    9500.57305\n",
      "\n",
      "[268 rows x 1 columns]\n"
     ]
    }
   ],
   "source": [
    "xp=df.drop(['sex','smoker','region','charges'],axis=1)\n",
    "yp=y\n",
    "poly=PolynomialFeatures(degree=4)\n",
    "x_pol=poly.fit_transform(xp)\n",
    "xp_train,xp_test,yp_train,yp_test=train_test_split(x_pol,yp,test_size=0.2,random_state=0)\n",
    "xp_train=pd.DataFrame(xp_train)\n",
    "xp_test=pd.DataFrame(xp_test)\n",
    "print(xp_train)\n",
    "print(xp_test)\n",
    "print(yp_train)\n",
    "print(yp_test)"
   ]
  },
  {
   "cell_type": "markdown",
   "metadata": {},
   "source": [
    "##### 4.2 Executing the Polynomial Regression"
   ]
  },
  {
   "cell_type": "code",
   "execution_count": 23,
   "metadata": {
    "collapsed": true
   },
   "outputs": [
    {
     "name": "stdout",
     "output_type": "stream",
     "text": [
      "[[ 4.62384414e-06 -9.49546672e+03 -1.52773781e+04 -4.86313398e+02\n",
      "   2.26514873e+02  3.91778943e+02  8.18463749e+02  5.67574481e+02\n",
      "  -1.95501007e+03  8.61786475e+03 -3.09195047e+00 -2.43196568e+00\n",
      "   1.00678263e+00 -1.03762869e+01 -4.32252532e+01 -1.21631163e+02\n",
      "  -8.29437780e+00  1.04226392e+02 -2.87350198e+02 -3.04156078e+02\n",
      "   1.61406281e-02  1.24420370e-02 -1.97170584e-02  1.88104372e-02\n",
      "   5.21956588e-02 -1.41334216e-01  9.20954107e-02  4.49953919e-01\n",
      "   3.65731863e+00  4.74737684e+00  3.86480131e-02 -1.24355931e+00\n",
      "  -6.08093068e-01  2.47840569e+01 -8.59842583e+01]]\n"
     ]
    }
   ],
   "source": [
    "poly_reg=LinearRegression()\n",
    "poly_reg.fit(xp_train,yp_train)\n",
    "poly_pred=poly_reg.predict(xp_test)\n",
    "print(poly_reg.coef_)"
   ]
  },
  {
   "cell_type": "markdown",
   "metadata": {},
   "source": [
    "## Regression Results"
   ]
  },
  {
   "cell_type": "markdown",
   "metadata": {},
   "source": [
    "#### 1.Training and Test score"
   ]
  },
  {
   "cell_type": "code",
   "execution_count": 24,
   "metadata": {},
   "outputs": [
    {
     "name": "stdout",
     "output_type": "stream",
     "text": [
      "Train score for linear Regression 0.40950373514881777\n",
      "Test score for linear Regression 0.38426205037159133\n",
      "----------------------------------------------------------------------------------------------------------\n",
      "Train score for ridge Regression 0.4094908079381291\n",
      "Test score for ridge Regression 0.3845516642376968\n",
      "----------------------------------------------------------------------------------------------------------\n",
      "Train score for lassco Regression 0.40950359047971985\n",
      "Test score for lassco Regression 0.38429823930051565\n",
      "----------------------------------------------------------------------------------------------------------\n",
      "Train score for polynomial Regression 0.08431022676609123\n",
      "Test score for polynomial Regression 0.018459693359854534\n",
      "----------------------------------------------------------------------------------------------------------\n"
     ]
    }
   ],
   "source": [
    "print(\"Train score for linear Regression\",lin_reg.score(x_train,y_train))\n",
    "print(\"Test score for linear Regression\",lin_reg.score(x_test,y_test))\n",
    "print(\"----------------------------------------------------------------------------------------------------------\")\n",
    "print(\"Train score for ridge Regression\",ridge.score(x_train,y_train))\n",
    "print(\"Test score for ridge Regression\",ridge.score(x_test,y_test))\n",
    "print(\"----------------------------------------------------------------------------------------------------------\")\n",
    "print(\"Train score for lassco Regression\",lassco.score(x_train,y_train))\n",
    "print(\"Test score for lassco Regression\",lassco.score(x_test,y_test))\n",
    "print(\"----------------------------------------------------------------------------------------------------------\")\n",
    "print(\"Train score for polynomial Regression\",poly_reg.score(xp_train,yp_train))\n",
    "print(\"Test score for polynomial Regression\",poly_reg.score(xp_test,yp_test))\n",
    "print(\"----------------------------------------------------------------------------------------------------------\")"
   ]
  },
  {
   "cell_type": "markdown",
   "metadata": {},
   "source": [
    "#### 2.Forming table for all predection value"
   ]
  },
  {
   "cell_type": "code",
   "execution_count": 25,
   "metadata": {
    "collapsed": true
   },
   "outputs": [
    {
     "name": "stdout",
     "output_type": "stream",
     "text": [
      "          charges\n",
      "578    9724.53000\n",
      "610    8547.69130\n",
      "569    9382.03300\n",
      "1034  12950.07120\n",
      "198    9644.25250\n",
      "...           ...\n",
      "1084  15019.76005\n",
      "726    6664.68595\n",
      "1132  20709.02034\n",
      "725   40932.42950\n",
      "963    9500.57305\n",
      "\n",
      "[268 rows x 1 columns]\n",
      "[[10627.77518867]\n",
      " [ 9894.12390497]\n",
      " [24606.85760622]\n",
      " [12037.97586291]\n",
      " [ 9921.3115342 ]\n",
      " [ 8911.83906101]\n",
      " [ 7320.83161981]\n",
      " [10547.43611473]\n",
      " [ 9085.12208572]\n",
      " [ 8802.81161211]\n",
      " [ 8327.13316039]\n",
      " [10073.46685597]\n",
      " [ 9458.48869445]\n",
      " [ 8439.43526506]\n",
      " [22259.87985181]\n",
      " [10014.62735705]\n",
      " [11345.48455746]\n",
      " [ 8596.51615003]\n",
      " [ 9423.41510773]\n",
      " [21797.16723658]\n",
      " [24210.18171379]\n",
      " [10951.18018786]\n",
      " [10650.51527238]\n",
      " [23659.32371862]\n",
      " [ 8155.68837638]\n",
      " [ 9356.60596642]\n",
      " [ 7857.57098771]\n",
      " [ 9299.21125146]\n",
      " [ 8316.07693111]\n",
      " [10121.58333706]\n",
      " [ 9204.63790918]\n",
      " [25608.45705372]\n",
      " [11909.46054013]\n",
      " [11259.75063752]\n",
      " [21405.37401325]\n",
      " [ 8496.25267268]\n",
      " [10452.0296551 ]\n",
      " [22458.26549885]\n",
      " [23209.99462834]\n",
      " [ 7535.14403776]\n",
      " [ 8704.72876121]\n",
      " [ 8552.21953238]\n",
      " [23366.55777179]\n",
      " [25374.78802182]\n",
      " [21370.46109452]\n",
      " [ 7675.30615577]\n",
      " [10000.53815193]\n",
      " [ 9718.72946962]\n",
      " [ 8188.49899354]\n",
      " [10586.05800202]\n",
      " [ 8146.89900656]\n",
      " [ 7235.86870329]\n",
      " [23943.7467481 ]\n",
      " [24443.9909192 ]\n",
      " [11496.00399014]\n",
      " [ 8958.88991994]\n",
      " [ 8594.95751429]\n",
      " [10512.65840917]\n",
      " [ 9478.64592946]\n",
      " [11293.25782579]\n",
      " [ 7573.16940245]\n",
      " [25431.80147168]\n",
      " [11474.6493379 ]\n",
      " [10480.7954789 ]\n",
      " [10602.21052129]\n",
      " [10606.00270444]\n",
      " [21507.50889339]\n",
      " [22723.49373324]\n",
      " [ 7125.19162725]\n",
      " [ 9572.32491651]\n",
      " [11097.83867778]\n",
      " [11081.75458677]\n",
      " [21384.32550103]\n",
      " [11740.99840195]\n",
      " [11006.69048432]\n",
      " [11246.20208171]\n",
      " [ 9789.48022016]\n",
      " [ 9948.26278283]\n",
      " [22766.78951107]\n",
      " [25496.78671918]\n",
      " [10930.10675223]\n",
      " [24074.79969152]\n",
      " [ 8174.2556207 ]\n",
      " [ 9982.33474215]\n",
      " [24048.19264878]\n",
      " [22574.80402429]\n",
      " [ 8424.67247944]\n",
      " [ 8498.46291677]\n",
      " [11157.94032054]\n",
      " [22647.9397696 ]\n",
      " [ 8917.41441322]\n",
      " [10943.81088627]\n",
      " [ 8607.11742663]\n",
      " [ 9591.73599324]\n",
      " [ 9479.67672204]\n",
      " [ 8782.56486228]\n",
      " [25024.36946916]\n",
      " [23616.62493828]\n",
      " [ 8601.4199198 ]\n",
      " [11480.04009853]\n",
      " [ 8196.23373567]\n",
      " [ 9485.91748133]\n",
      " [ 8244.96864625]\n",
      " [23253.47038554]\n",
      " [23478.1743613 ]\n",
      " [ 7854.38825898]\n",
      " [10702.9990887 ]\n",
      " [ 8514.43169808]\n",
      " [11700.72736239]\n",
      " [25307.37670936]\n",
      " [10187.26407194]\n",
      " [ 9235.03929985]\n",
      " [10054.84956371]\n",
      " [21657.37149666]\n",
      " [25466.31311295]\n",
      " [ 9747.8309869 ]\n",
      " [ 7327.09489028]\n",
      " [10341.88994467]\n",
      " [11567.80810594]\n",
      " [ 9958.7632188 ]\n",
      " [23807.98026093]\n",
      " [10025.68526215]\n",
      " [11865.44346327]\n",
      " [ 9071.79693022]\n",
      " [ 9448.22752617]\n",
      " [ 7881.61856896]\n",
      " [23713.18319156]\n",
      " [23575.82737949]\n",
      " [25610.50809231]\n",
      " [ 8284.84900728]\n",
      " [ 9584.0654459 ]\n",
      " [ 7734.63853241]\n",
      " [ 9120.6287228 ]\n",
      " [10523.95310449]\n",
      " [23528.12793329]\n",
      " [22824.63735749]\n",
      " [23388.72530199]\n",
      " [ 9869.605217  ]\n",
      " [23948.99357853]\n",
      " [ 8011.43550244]\n",
      " [ 7655.1059747 ]\n",
      " [11026.41508235]\n",
      " [10700.46857908]\n",
      " [11242.67261765]\n",
      " [ 8936.4674288 ]\n",
      " [11795.63296636]\n",
      " [11305.85935286]\n",
      " [ 7454.11938261]\n",
      " [ 7455.53610753]\n",
      " [10878.13517241]\n",
      " [ 9153.28028254]\n",
      " [22752.36650242]\n",
      " [10893.54863529]\n",
      " [ 7574.96087434]\n",
      " [ 7839.20811169]\n",
      " [ 9267.46906529]\n",
      " [ 8089.58102268]\n",
      " [ 7546.7824641 ]\n",
      " [10102.35979016]\n",
      " [10073.15743681]\n",
      " [ 8588.32444805]\n",
      " [12106.91799496]\n",
      " [11083.75416689]\n",
      " [10941.1677399 ]\n",
      " [ 8364.29753196]\n",
      " [ 8304.09619837]\n",
      " [20726.40405821]\n",
      " [ 8541.28980463]\n",
      " [ 8818.24202611]\n",
      " [ 7718.54123475]\n",
      " [ 8575.44686394]\n",
      " [ 8493.45394351]\n",
      " [ 9618.65762423]\n",
      " [ 8429.33156497]\n",
      " [ 8222.44672957]\n",
      " [ 8218.70238219]\n",
      " [ 8302.82272873]\n",
      " [ 9251.48092062]\n",
      " [25200.00853678]\n",
      " [ 7639.34577649]\n",
      " [10493.12544312]\n",
      " [ 9347.93431396]\n",
      " [11482.57751914]\n",
      " [ 8612.02086504]\n",
      " [ 8852.00141388]\n",
      " [25499.45861736]\n",
      " [ 8247.47190307]\n",
      " [ 7280.5306134 ]\n",
      " [11756.77602616]\n",
      " [10374.90004043]\n",
      " [24612.01237831]\n",
      " [ 7929.05784229]\n",
      " [ 8642.27000401]\n",
      " [23932.56716701]\n",
      " [ 8600.94433676]\n",
      " [ 7910.38406597]\n",
      " [ 9444.98544496]\n",
      " [ 8973.11634166]\n",
      " [ 8846.96021419]\n",
      " [ 8801.80950984]\n",
      " [10843.53984625]\n",
      " [25811.75016306]\n",
      " [10814.35859356]\n",
      " [22182.13647943]\n",
      " [ 8699.01867069]\n",
      " [23982.80912356]\n",
      " [ 8131.66096013]\n",
      " [10935.95092371]\n",
      " [ 9012.51553717]\n",
      " [ 8181.36300754]\n",
      " [10527.49108552]\n",
      " [11609.07690275]\n",
      " [ 7996.76898997]\n",
      " [ 7816.03082808]\n",
      " [ 9553.73924449]\n",
      " [ 7807.91711962]\n",
      " [ 9203.20933618]\n",
      " [ 8473.22829434]\n",
      " [10830.39015459]\n",
      " [ 8582.96952701]\n",
      " [ 8870.00917237]\n",
      " [ 8970.68129895]\n",
      " [ 9929.04975551]\n",
      " [ 7844.59256753]\n",
      " [11030.42469236]\n",
      " [12294.31328067]\n",
      " [11019.28290233]\n",
      " [10693.13766062]\n",
      " [ 8934.21443413]\n",
      " [ 8089.46838593]\n",
      " [ 7631.88400773]\n",
      " [10736.7184919 ]\n",
      " [11301.72926404]\n",
      " [ 7326.89180764]\n",
      " [ 8266.82434506]\n",
      " [ 9646.67402014]\n",
      " [10079.39404657]\n",
      " [22182.21428205]\n",
      " [ 9512.35427214]\n",
      " [10334.06884012]\n",
      " [ 8951.4890455 ]\n",
      " [21761.95795724]\n",
      " [ 9529.25124568]\n",
      " [ 9573.24828884]\n",
      " [ 9868.72111606]\n",
      " [10939.84817637]\n",
      " [ 7795.28571418]\n",
      " [ 9837.17967092]\n",
      " [ 7555.80728343]\n",
      " [ 9614.56432476]\n",
      " [22063.08076823]\n",
      " [25127.29772038]\n",
      " [ 8022.35034773]\n",
      " [ 8410.37938545]\n",
      " [ 7442.5111186 ]\n",
      " [ 7505.49832782]\n",
      " [10131.76570558]\n",
      " [ 7591.73838864]\n",
      " [ 8010.77498051]\n",
      " [ 7787.00984786]\n",
      " [ 9546.78006869]\n",
      " [23784.45435659]\n",
      " [25726.59368177]\n",
      " [11362.45544104]\n",
      " [ 9715.75532399]\n",
      " [11839.71263202]\n",
      " [22414.17827053]\n",
      " [10007.64360141]]\n",
      "[[10642.45289353]\n",
      " [ 9908.13663471]\n",
      " [24544.39098328]\n",
      " [12051.63147948]\n",
      " [ 9935.45745564]\n",
      " [ 8930.41687897]\n",
      " [ 7338.97389618]\n",
      " [10562.83344595]\n",
      " [ 9102.43175946]\n",
      " [ 8822.86489849]\n",
      " [ 8346.31158316]\n",
      " [10088.82428526]\n",
      " [ 9472.25197097]\n",
      " [ 8454.59499094]\n",
      " [22199.01642487]\n",
      " [10029.98862598]\n",
      " [11360.16096193]\n",
      " [ 8616.12176682]\n",
      " [ 9441.95840124]\n",
      " [21737.66075799]\n",
      " [24148.37963361]\n",
      " [10965.34951339]\n",
      " [10664.40141885]\n",
      " [23593.50798104]\n",
      " [ 8173.50452571]\n",
      " [ 9375.20066025]\n",
      " [ 7875.12813537]\n",
      " [ 9315.4267967 ]\n",
      " [ 8331.3777999 ]\n",
      " [10139.23132069]\n",
      " [ 9221.81222813]\n",
      " [25543.17956781]\n",
      " [11921.69945395]\n",
      " [11272.81186658]\n",
      " [21344.07233549]\n",
      " [ 8512.89242616]\n",
      " [10468.38589878]\n",
      " [22396.22446746]\n",
      " [23146.97872244]\n",
      " [ 7550.55922081]\n",
      " [ 8721.18850858]\n",
      " [ 8569.59473929]\n",
      " [23305.11168664]\n",
      " [25311.38801826]\n",
      " [21307.4453495 ]\n",
      " [ 7693.62821747]\n",
      " [10015.92064396]\n",
      " [ 9736.18575102]\n",
      " [ 8206.33384988]\n",
      " [10599.2518273 ]\n",
      " [ 8163.9086372 ]\n",
      " [ 7255.53955169]\n",
      " [23879.91484414]\n",
      " [24380.90975406]\n",
      " [11507.11794549]\n",
      " [ 8977.262834  ]\n",
      " [ 8612.20132865]\n",
      " [10528.36594919]\n",
      " [ 9498.59596874]\n",
      " [11308.7444231 ]\n",
      " [ 7590.97969341]\n",
      " [25369.13646123]\n",
      " [11490.50942743]\n",
      " [10496.38143018]\n",
      " [10621.48089024]\n",
      " [10618.21614259]\n",
      " [21446.78377147]\n",
      " [22664.21586509]\n",
      " [ 7143.52603324]\n",
      " [ 9592.15162139]\n",
      " [11108.8031052 ]\n",
      " [11096.67645053]\n",
      " [21322.99195892]\n",
      " [11751.85500401]\n",
      " [11019.40250204]\n",
      " [11259.36962822]\n",
      " [ 9804.55512967]\n",
      " [ 9965.33319334]\n",
      " [22704.45899983]\n",
      " [25430.90580876]\n",
      " [10943.66109229]\n",
      " [24008.26875368]\n",
      " [ 8192.86011574]\n",
      " [ 9997.82833101]\n",
      " [23986.54066561]\n",
      " [22514.26931184]\n",
      " [ 8439.61328291]\n",
      " [ 8516.6683989 ]\n",
      " [11171.97578502]\n",
      " [22584.92617934]\n",
      " [ 8935.65899631]\n",
      " [10957.34802745]\n",
      " [ 8623.47848914]\n",
      " [ 9606.89106671]\n",
      " [ 9497.39918442]\n",
      " [ 8799.54953096]\n",
      " [24960.78357058]\n",
      " [23553.92795921]\n",
      " [ 8618.57032325]\n",
      " [11492.79183538]\n",
      " [ 8214.0111482 ]\n",
      " [ 9503.59042694]\n",
      " [ 8261.77265693]\n",
      " [23190.49500501]\n",
      " [23418.00540941]\n",
      " [ 7871.11154841]\n",
      " [10716.92131213]\n",
      " [ 8530.18307708]\n",
      " [11715.64028885]\n",
      " [25241.02725451]\n",
      " [10203.27095877]\n",
      " [ 9252.87133092]\n",
      " [10069.45883874]\n",
      " [21598.03092127]\n",
      " [25401.20506742]\n",
      " [ 9766.79126756]\n",
      " [ 7346.02971264]\n",
      " [10356.22209122]\n",
      " [11581.22617091]\n",
      " [ 9977.41032456]\n",
      " [23746.52053378]\n",
      " [10039.69629969]\n",
      " [11875.31863295]\n",
      " [ 9092.23900977]\n",
      " [ 9462.02859771]\n",
      " [ 7899.80856025]\n",
      " [23649.65047366]\n",
      " [23514.8468221 ]\n",
      " [25543.70201908]\n",
      " [ 8303.26457305]\n",
      " [ 9599.20973558]\n",
      " [ 7753.73109401]\n",
      " [ 9135.60555382]\n",
      " [10540.48228337]\n",
      " [23464.05654073]\n",
      " [22761.44695382]\n",
      " [23325.6802112 ]\n",
      " [ 9884.4534166 ]\n",
      " [23883.60705129]\n",
      " [ 8031.03911961]\n",
      " [ 7671.97308303]\n",
      " [11041.46042221]\n",
      " [10716.51760441]\n",
      " [11258.18617655]\n",
      " [ 8954.92335557]\n",
      " [11806.42960852]\n",
      " [11318.0135903 ]\n",
      " [ 7472.81930287]\n",
      " [ 7475.15622256]\n",
      " [10894.92936972]\n",
      " [ 9169.84055779]\n",
      " [22689.94490974]\n",
      " [10910.25260002]\n",
      " [ 7594.29396451]\n",
      " [ 7856.50708343]\n",
      " [ 9282.26938154]\n",
      " [ 8109.04458803]\n",
      " [ 7566.15800048]\n",
      " [10118.40521863]\n",
      " [10089.17983922]\n",
      " [ 8609.42778599]\n",
      " [12119.67578533]\n",
      " [11096.35010064]\n",
      " [10955.35103135]\n",
      " [ 8381.18073099]\n",
      " [ 8326.29218722]\n",
      " [20663.56450488]\n",
      " [ 8560.07862037]\n",
      " [ 8837.62533989]\n",
      " [ 7734.45179739]\n",
      " [ 8595.02176388]\n",
      " [ 8513.99100502]\n",
      " [ 9634.54378243]\n",
      " [ 8446.78019157]\n",
      " [ 8241.6522603 ]\n",
      " [ 8239.4167127 ]\n",
      " [ 8323.64694533]\n",
      " [ 9269.57402168]\n",
      " [25138.44198446]\n",
      " [ 7659.48298802]\n",
      " [10507.89540109]\n",
      " [ 9367.30049057]\n",
      " [11496.98040054]\n",
      " [ 8629.26131445]\n",
      " [ 8872.13241102]\n",
      " [25435.31344146]\n",
      " [ 8266.7824239 ]\n",
      " [ 7297.08319034]\n",
      " [11768.44751429]\n",
      " [10390.59738541]\n",
      " [24548.93593782]\n",
      " [ 7946.29304502]\n",
      " [ 8657.10641433]\n",
      " [23868.83689582]\n",
      " [ 8618.97310898]\n",
      " [ 7927.79808876]\n",
      " [ 9464.29022228]\n",
      " [ 8991.29935704]\n",
      " [ 8865.35448539]\n",
      " [ 8820.40126228]\n",
      " [10857.91143061]\n",
      " [25745.54661839]\n",
      " [10828.71168046]\n",
      " [22122.04144988]\n",
      " [ 8718.45210616]\n",
      " [23917.23762928]\n",
      " [ 8152.67598955]\n",
      " [10950.24920423]\n",
      " [ 9028.31973024]\n",
      " [ 8199.05112926]\n",
      " [10543.86312777]\n",
      " [11621.74251352]\n",
      " [ 8015.49470927]\n",
      " [ 7831.08991532]\n",
      " [ 9569.7890902 ]\n",
      " [ 7825.48549228]\n",
      " [ 9223.58749359]\n",
      " [ 8490.70126675]\n",
      " [10844.72365291]\n",
      " [ 8601.09806666]\n",
      " [ 8885.92089745]\n",
      " [ 8989.00201172]\n",
      " [ 9941.48437735]\n",
      " [ 7862.10225039]\n",
      " [11041.42365334]\n",
      " [12307.64978108]\n",
      " [11032.53332787]\n",
      " [10704.64468995]\n",
      " [ 8953.40983678]\n",
      " [ 8107.45129966]\n",
      " [ 7650.39983067]\n",
      " [10753.54700471]\n",
      " [11313.15820107]\n",
      " [ 7347.95104222]\n",
      " [ 8282.95326486]\n",
      " [ 9663.31539638]\n",
      " [10094.78266357]\n",
      " [22122.2171453 ]\n",
      " [ 9530.84838573]\n",
      " [10349.91704363]\n",
      " [ 8965.17282209]\n",
      " [21703.88276664]\n",
      " [ 9543.59477512]\n",
      " [ 9588.55611967]\n",
      " [ 9887.43684099]\n",
      " [10955.71076053]\n",
      " [ 7816.71808557]\n",
      " [ 9852.00513928]\n",
      " [ 7573.68495991]\n",
      " [ 9632.97149014]\n",
      " [22000.02128422]\n",
      " [25060.27485833]\n",
      " [ 8038.62870613]\n",
      " [ 8426.13569519]\n",
      " [ 7460.4701045 ]\n",
      " [ 7525.83715888]\n",
      " [10147.03420087]\n",
      " [ 7607.83995926]\n",
      " [ 8032.61883428]\n",
      " [ 7803.74983943]\n",
      " [ 9565.20910793]\n",
      " [23718.4323521 ]\n",
      " [25662.10636364]\n",
      " [11376.13927632]\n",
      " [ 9733.19374723]\n",
      " [11854.39386142]\n",
      " [22352.05295838]\n",
      " [10027.03339105]]\n",
      "[10627.91027051  9897.41927634 24599.92084597 12035.34262578\n",
      "  9923.48815708  8909.59751622  7322.45510879 10551.13435977\n",
      "  9089.2918053   8803.25927065  8331.07248996 10076.84208272\n",
      "  9462.58900074  8442.4127979  22252.27139585 10019.44255797\n",
      " 11343.44916691  8594.70803695  9423.06110766 21788.82456047\n",
      " 24203.84696189 10954.14145458 10651.38478372 23655.97378254\n",
      "  8154.6546596   9354.49778002  7859.40123752  9303.99269186\n",
      "  8319.0286136  10121.0618629   9208.83719954 25601.31404108\n",
      " 11908.37181808 11258.78247071 21401.18815161  8497.60982089\n",
      " 10451.93459635 22452.59432746 23207.31608394  7538.72646914\n",
      "  8706.3199255   8551.31039582 23358.07581542 25367.83417611\n",
      " 21367.22060531  7678.89665515 10005.36699445  9717.67083137\n",
      "  8190.86340343 10589.40986991  8148.08589585  7240.44867495\n",
      " 23938.09018485 24440.95224108 11497.83818005  8956.16695001\n",
      "  8593.78906297 10510.70293813  9481.40325155 11291.98228785\n",
      "  7573.15548282 25425.79228825 11475.29046015 10481.63686643\n",
      " 10602.18647493 10609.57311106 21500.72146629 22717.85482668\n",
      "  7129.98848333  9573.39059724 11100.950037   11081.13961712\n",
      " 21378.4037076  11742.95860493 11008.47001346 11247.07598947\n",
      "  9789.28181087  9948.510197   22762.93915304 25490.57083775\n",
      " 10930.99613385 24070.75689944  8172.53020767  9982.58624542\n",
      " 24040.05057699 22569.49145199  8428.53879612  8496.71417562\n",
      " 11158.07059407 22641.52095433  8920.63692461 10943.14862206\n",
      "  8608.00400796  9595.8881413   9476.88537934  8784.49936899\n",
      " 25015.44468592 23611.70381017  8604.84017573 11478.93128552\n",
      "  8195.23340646  9484.64838977  8249.18981362 23246.22742706\n",
      " 23472.60384297  7856.82266443 10702.64263073  8516.29967399\n",
      " 11697.52900626 25300.5622906  10191.52898117  9234.96025117\n",
      " 10057.38824152 21649.0188854  25459.16243876  9746.77973789\n",
      "  7328.1011575  10341.44725464 11567.54153286  9959.18132203\n",
      " 23802.83677808 10027.83347202 11868.02953842  9071.23778518\n",
      "  9452.41041249  7885.59046905 23709.14295444 23569.67095994\n",
      " 25603.40017241  8282.94386949  9588.15237598  7734.43119477\n",
      "  9124.01921245 10521.38562354 23521.72863084 22818.33803754\n",
      " 23381.78725459  9873.85154773 23946.50832932  8010.6496668\n",
      "  7657.2248175  11024.32540048 10700.35090863 11239.62718486\n",
      "  8935.58504202 11797.61291532 11308.65957659  7458.06933152\n",
      "  7454.28864635 10876.15198109  9155.29172021 22744.95492458\n",
      " 10891.33258565  7574.90814154  7841.78534138  9270.86266928\n",
      "  8088.64687929  7546.75701449 10106.41632697 10077.02431371\n",
      "  8588.01548144 12104.96436964 11085.45908059 10940.92674058\n",
      "  8365.92773289  8304.55378087 20724.53352857  8544.80384661\n",
      "  8816.58245541  7721.12708676  8575.11479958  8492.6001932\n",
      "  9621.96469739  8428.17818811  8224.51317364  8220.66272818\n",
      "  8302.15355344  9250.65675229 25193.33212902  7637.17398141\n",
      " 10496.23963318  9348.29003697 11480.19145642  8610.9085373\n",
      "  8851.23637592 25490.58235207  8245.00188092  7285.14149927\n",
      " 11758.11987874 10377.23704657 24603.12362769  7933.43959454\n",
      "  8646.65208449 23925.53842423  8599.02372511  7910.40686893\n",
      "  9443.86419612  8976.35756557  8847.18427079  8800.83956848\n",
      " 10845.07704002 25804.06425489 10817.37969032 22178.36916937\n",
      "  8698.71224998 23979.85526404  8130.9395744  10934.40461636\n",
      "  9016.50205589  8180.01385242 10526.08524842 11609.74475362\n",
      "  8001.26603812  7819.55923074  9554.11514775  7808.03913423\n",
      "  9202.95882266  8475.53495508 10835.06931242  8586.16979737\n",
      "  8875.44402926  8974.3607496   9932.34838922  7846.21744892\n",
      " 11033.38338935 12291.64978428 11022.85194877 10696.42292931\n",
      "  8935.71709718  8088.71671991  7631.0668751  10734.29106583\n",
      " 11303.82420156  7331.3465693   8270.60564535  9647.66922618\n",
      " 10081.23524079 22173.78937089  9510.53115448 10336.73595966\n",
      "  8955.00773518 21756.45094597  9533.84703289  9574.50703968\n",
      "  9869.0084663  10938.40630665  7794.59943796  9839.56587922\n",
      "  7557.4938411   9612.86017871 22060.75068652 25125.78105318\n",
      "  8027.31549018  8413.51317744  7444.01679374  7503.45612796\n",
      " 10131.87252519  7594.44701507  8012.26292935  7790.89249512\n",
      "  9548.19814072 23782.58420366 25717.49749732 11365.45436745\n",
      "  9714.62692056 11836.30706123 22412.92681557 10007.34065829]\n",
      "[[13424.71776198]\n",
      " [12726.85964131]\n",
      " [11005.44995006]\n",
      " [11852.21937077]\n",
      " [11097.82078623]\n",
      " [ 8545.95362372]\n",
      " [11626.72842555]\n",
      " [14073.16608207]\n",
      " [12956.18073427]\n",
      " [12410.44769307]\n",
      " [14205.34458687]\n",
      " [13940.59168858]\n",
      " [12162.34678131]\n",
      " [ 9162.36245471]\n",
      " [ 9889.52711601]\n",
      " [14836.82236988]\n",
      " [16091.07769227]\n",
      " [12272.69902084]\n",
      " [11595.57065777]\n",
      " [12585.05383428]\n",
      " [14516.68119277]\n",
      " [13700.85437459]\n",
      " [12672.69932162]\n",
      " [12565.3593502 ]\n",
      " [12902.71984894]\n",
      " [13007.68188871]\n",
      " [ 7432.96965671]\n",
      " [13685.30169715]\n",
      " [ 9235.17026699]\n",
      " [12838.40918171]\n",
      " [13006.26251653]\n",
      " [12194.55004063]\n",
      " [12802.513999  ]\n",
      " [10239.99028245]\n",
      " [ 7659.68831619]\n",
      " [ 9800.72810179]\n",
      " [12023.94817503]\n",
      " [13632.98787665]\n",
      " [12632.07301661]\n",
      " [13764.27107446]\n",
      " [ 8618.42268388]\n",
      " [ 9730.16289472]\n",
      " [10995.30878584]\n",
      " [13431.47657781]\n",
      " [16467.88423838]\n",
      " [14643.04217011]\n",
      " [14887.54790543]\n",
      " [11401.14755133]\n",
      " [ 6542.23774661]\n",
      " [15754.93294684]\n",
      " [12801.68675424]\n",
      " [12456.85977535]\n",
      " [12911.02232084]\n",
      " [13912.81736079]\n",
      " [ 9668.18379751]\n",
      " [11492.31016701]\n",
      " [11926.78208833]\n",
      " [13172.91987657]\n",
      " [ 9563.33103432]\n",
      " [17051.2323694 ]\n",
      " [12154.70593298]\n",
      " [17599.3299277 ]\n",
      " [16479.72025205]\n",
      " [13231.37527008]\n",
      " [15817.79197176]\n",
      " [10956.94782208]\n",
      " [12946.56317518]\n",
      " [13535.60827821]\n",
      " [ 6843.87561956]\n",
      " [13911.4740566 ]\n",
      " [16211.48187745]\n",
      " [15088.03350531]\n",
      " [10928.83554827]\n",
      " [13690.27489109]\n",
      " [16060.81203894]\n",
      " [15879.54425153]\n",
      " [11768.96761821]\n",
      " [12734.69272758]\n",
      " [ 9801.77953386]\n",
      " [14132.2727085 ]\n",
      " [14140.90106539]\n",
      " [ 7585.28043819]\n",
      " [12288.12328637]\n",
      " [12453.56055829]\n",
      " [12235.99213808]\n",
      " [ 9342.16761582]\n",
      " [14230.52442057]\n",
      " [10865.67508418]\n",
      " [15946.18236633]\n",
      " [11189.60318614]\n",
      " [13448.12619185]\n",
      " [13553.55162603]\n",
      " [12266.14549716]\n",
      " [12715.53772379]\n",
      " [10921.55801009]\n",
      " [11397.43286662]\n",
      " [13278.8707101 ]\n",
      " [12697.23951272]\n",
      " [12375.00085488]\n",
      " [ 9291.62391164]\n",
      " [12086.15285515]\n",
      " [12216.77086507]\n",
      " [12713.69159315]\n",
      " [10907.07644545]\n",
      " [13364.60111824]\n",
      " [ 7565.78562565]\n",
      " [14151.49187085]\n",
      " [11424.61479436]\n",
      " [12141.73556607]\n",
      " [13920.21817535]\n",
      " [19323.80819112]\n",
      " [ 9889.1236289 ]\n",
      " [12897.10853594]\n",
      " [14386.75919013]\n",
      " [11307.12677782]\n",
      " [11894.38067425]\n",
      " [ 6610.01987854]\n",
      " [13166.66059405]\n",
      " [13033.9830965 ]\n",
      " [14435.17170506]\n",
      " [13716.13419748]\n",
      " [11447.3462795 ]\n",
      " [13695.45591834]\n",
      " [13562.44214728]\n",
      " [12065.7234594 ]\n",
      " [ 7569.28743473]\n",
      " [12646.85568851]\n",
      " [13114.9550754 ]\n",
      " [10883.36481654]\n",
      " [14269.28587166]\n",
      " [12665.60045319]\n",
      " [17034.92622445]\n",
      " [11632.22193238]\n",
      " [12938.5791808 ]\n",
      " [11690.39742748]\n",
      " [10804.20938132]\n",
      " [11359.71207699]\n",
      " [14587.00840834]\n",
      " [14419.27888418]\n",
      " [ 9028.7414001 ]\n",
      " [13166.17245195]\n",
      " [14133.80420503]\n",
      " [12171.55849296]\n",
      " [12229.82984746]\n",
      " [ 8831.3343164 ]\n",
      " [14810.4972409 ]\n",
      " [13206.95848794]\n",
      " [ 6785.9198056 ]\n",
      " [ 9647.67886731]\n",
      " [14530.84860365]\n",
      " [10625.69918413]\n",
      " [11310.15661902]\n",
      " [12908.2651788 ]\n",
      " [13635.48855448]\n",
      " [19157.60285972]\n",
      " [11704.02832199]\n",
      " [12592.1873428 ]\n",
      " [13001.58425535]\n",
      " [14842.63865586]\n",
      " [14160.06699891]\n",
      " [13229.71538891]\n",
      " [12077.1798673 ]\n",
      " [16113.02797115]\n",
      " [10895.49905645]\n",
      " [ 7925.49957572]\n",
      " [13279.62487536]\n",
      " [ 9643.1332003 ]\n",
      " [12152.16784518]\n",
      " [ 8890.41572937]\n",
      " [16975.57709278]\n",
      " [12951.56647988]\n",
      " [ 8842.87627378]\n",
      " [12619.81222283]\n",
      " [12627.26616295]\n",
      " [11976.26401684]\n",
      " [13112.01053731]\n",
      " [ 7035.83024925]\n",
      " [ 9607.93933693]\n",
      " [16530.42124838]\n",
      " [11541.83027025]\n",
      " [13515.86877655]\n",
      " [12978.2572632 ]\n",
      " [12276.82075427]\n",
      " [11410.86696337]\n",
      " [ 8931.51811895]\n",
      " [17064.93411506]\n",
      " [12133.54400707]\n",
      " [ 8811.83881825]\n",
      " [16200.55622727]\n",
      " [13032.63108719]\n",
      " [12105.43750045]\n",
      " [10898.68310593]\n",
      " [ 9635.19512962]\n",
      " [12652.78272029]\n",
      " [12244.04954684]\n",
      " [ 9064.4774492 ]\n",
      " [11610.59410893]\n",
      " [13542.81368416]\n",
      " [13896.39491512]\n",
      " [ 9824.49986093]\n",
      " [13303.77019422]\n",
      " [15765.41620655]\n",
      " [13749.89617357]\n",
      " [10269.8370086 ]\n",
      " [11906.68030901]\n",
      " [11843.88714672]\n",
      " [ 7502.89817205]\n",
      " [11378.23871551]\n",
      " [12999.53568405]\n",
      " [16774.78952668]\n",
      " [12649.13841529]\n",
      " [15442.89491978]\n",
      " [ 9872.16857497]\n",
      " [12373.8224831 ]\n",
      " [11667.30847795]\n",
      " [ 8213.68258854]\n",
      " [11896.01598069]\n",
      " [ 7484.06144758]\n",
      " [17018.35709056]\n",
      " [13076.73334146]\n",
      " [13071.64893306]\n",
      " [12942.81260726]\n",
      " [12601.77820993]\n",
      " [ 8124.9768067 ]\n",
      " [13017.6459622 ]\n",
      " [14091.66706251]\n",
      " [12782.19158326]\n",
      " [15303.12482327]\n",
      " [13764.12364702]\n",
      " [ 8925.99055475]\n",
      " [13562.29790164]\n",
      " [11130.18984897]\n",
      " [12321.0143288 ]\n",
      " [14902.51336263]\n",
      " [ 7627.32229213]\n",
      " [12616.25955702]\n",
      " [12911.26261598]\n",
      " [11238.65063649]\n",
      " [10864.07841271]\n",
      " [15464.53206421]\n",
      " [10973.85944523]\n",
      " [17051.6089672 ]\n",
      " [12562.21993036]\n",
      " [11662.46972934]\n",
      " [13701.67199853]\n",
      " [13408.44180272]\n",
      " [ 8570.17889136]\n",
      " [12266.80516711]\n",
      " [ 8581.2829982 ]\n",
      " [10648.86298853]\n",
      " [ 9586.52443771]\n",
      " [16767.25168181]\n",
      " [13734.12407839]\n",
      " [14801.53078806]\n",
      " [13047.52694574]\n",
      " [10485.24911343]\n",
      " [12356.94945155]\n",
      " [16467.88423838]\n",
      " [10029.08927862]\n",
      " [ 6366.0664433 ]\n",
      " [17414.0835133 ]\n",
      " [13329.88340863]\n",
      " [15311.51498647]\n",
      " [16662.89539698]\n",
      " [11587.69466881]\n",
      " [ 9575.10925726]\n",
      " [12877.36530645]\n",
      " [14702.35971525]]\n"
     ]
    }
   ],
   "source": [
    "print(y_test)\n",
    "print(lin_pred)\n",
    "print(ridge_pred)\n",
    "print(lassco_pred)\n",
    "print(poly_pred)"
   ]
  },
  {
   "cell_type": "code",
   "execution_count": 26,
   "metadata": {},
   "outputs": [],
   "source": [
    "y_test1=np.array(y_test)\n",
    "Actual=pd.DataFrame(y_test1)\n",
    "Actual.columns=[\"Actual\"]\n",
    "\n",
    "linear_predection=pd.DataFrame(lin_pred)\n",
    "linear_predection.columns=[\"linear_predection\"]\n",
    "\n",
    "ridge_prediction=pd.DataFrame(ridge_pred)\n",
    "ridge_prediction.columns=[\"ridge_predection\"]\n",
    "\n",
    "lassco_predecton=pd.DataFrame(lassco_pred)\n",
    "lassco_predecton.columns=[\"lassco_predection\"]\n",
    "\n",
    "polynomial_predection=pd.DataFrame(poly_pred)\n",
    "polynomial_predection.columns=[\"polynomial_Regression\"]"
   ]
  },
  {
   "cell_type": "code",
   "execution_count": 27,
   "metadata": {},
   "outputs": [],
   "source": [
    "ps=pd.DataFrame()\n",
    "ps[\"Actual\"]=Actual.Actual\n",
    "ps[\"linear_predection\"]=linear_predection.linear_predection\n",
    "ps[\"ridge_prediction\"]=ridge_prediction.ridge_predection\n",
    "ps[\"lassco_predecton\"]=lassco_predecton.lassco_predection\n",
    "ps[\"polynomial_Regression\"]=polynomial_predection.polynomial_Regression"
   ]
  },
  {
   "cell_type": "code",
   "execution_count": 28,
   "metadata": {},
   "outputs": [
    {
     "name": "stdout",
     "output_type": "stream",
     "text": [
      "       Actual  linear_predection  ridge_prediction  lassco_predecton  \\\n",
      "0   9724.5300       10627.775189      10642.452894      10627.910271   \n",
      "1   8547.6913        9894.123905       9908.136635       9897.419276   \n",
      "2   9382.0330       24606.857606      24544.390983      24599.920846   \n",
      "3  12950.0712       12037.975863      12051.631479      12035.342626   \n",
      "4   9644.2525        9921.311534       9935.457456       9923.488157   \n",
      "\n",
      "   polynomial_Regression  \n",
      "0           13424.717762  \n",
      "1           12726.859641  \n",
      "2           11005.449950  \n",
      "3           11852.219371  \n",
      "4           11097.820786  \n"
     ]
    }
   ],
   "source": [
    "print(ps.head())"
   ]
  },
  {
   "cell_type": "markdown",
   "metadata": {},
   "source": [
    "#### 3.Finding the Errors"
   ]
  },
  {
   "cell_type": "code",
   "execution_count": 29,
   "metadata": {},
   "outputs": [
    {
     "name": "stdout",
     "output_type": "stream",
     "text": [
      "Linear Mean Absolute Error: 4673.248029575982\n",
      "Linear Mean Squared Error: 46440675.32013531\n",
      "Linear Root Mean Squared Error: 6814.739563632297\n",
      "----------------------------------------------------------------------------------------------------------\n",
      "Ridge Mean Absolute Error: 4672.979757955759\n",
      "Ridge Mean Squared Error: 46418831.83374287\n",
      "Ridge Root Mean Squared Error: 6813.136710337088\n",
      "----------------------------------------------------------------------------------------------------------\n",
      "Lassco Mean Absolute Error: 4673.191095044942\n",
      "Lassco Mean Squared Error: 46437945.85007524\n",
      "Lassco Root Mean Squared Error: 6814.539298446758\n",
      "----------------------------------------------------------------------------------------------------------\n",
      "Polynomial Mean Absolute Error: 6481.004614838083\n",
      "Polynomial Mean Squared Error: 74030510.41731331\n",
      "Polynomial Root Mean Squared Error: 8604.09846627253\n"
     ]
    }
   ],
   "source": [
    "print('Linear Mean Absolute Error:', metrics.mean_absolute_error(y_test, lin_pred))\n",
    "print('Linear Mean Squared Error:', metrics.mean_squared_error(y_test, lin_pred))\n",
    "print('Linear Root Mean Squared Error:', np.sqrt(metrics.mean_squared_error(y_test, lin_pred)))\n",
    "print(\"----------------------------------------------------------------------------------------------------------\")\n",
    "print('Ridge Mean Absolute Error:', metrics.mean_absolute_error(y_test, ridge_pred))\n",
    "print('Ridge Mean Squared Error:', metrics.mean_squared_error(y_test, ridge_pred))\n",
    "print('Ridge Root Mean Squared Error:', np.sqrt(metrics.mean_squared_error(y_test, ridge_pred)))\n",
    "print(\"----------------------------------------------------------------------------------------------------------\")\n",
    "print('Lassco Mean Absolute Error:', metrics.mean_absolute_error(y_test, lassco_pred))\n",
    "print('Lassco Mean Squared Error:', metrics.mean_squared_error(y_test, lassco_pred))\n",
    "print('Lassco Root Mean Squared Error:', np.sqrt(metrics.mean_squared_error(y_test, lassco_pred)))\n",
    "print(\"----------------------------------------------------------------------------------------------------------\")\n",
    "print('Polynomial Mean Absolute Error:', metrics.mean_absolute_error(y_test, poly_pred))\n",
    "print('Polynomial Mean Squared Error:', metrics.mean_squared_error(y_test, poly_pred))\n",
    "print('Polynomial Root Mean Squared Error:', np.sqrt(metrics.mean_squared_error(y_test, poly_pred)))"
   ]
  },
  {
   "cell_type": "code",
   "execution_count": 30,
   "metadata": {},
   "outputs": [
    {
     "data": {
      "image/png": "[encoded data removed]",
      "text/plain": [
       "<Figure size 1080x576 with 1 Axes>"
      ]
     },
     "metadata": {
      "needs_background": "light"
     },
     "output_type": "display_data"
    }
   ],
   "source": [
    "plt.figure(figsize=[15,8])\n",
    "sns.stripplot(data=ps)\n",
    "plt.show()"
   ]
  },
  {
   "cell_type": "code",
   "execution_count": null,
   "metadata": {},
   "outputs": [],
   "source": []
  }
 ],
 "metadata": {
  "kernelspec": {
   "display_name": "Python 3",
   "language": "python",
   "name": "python3"
  },
  "language_info": {
   "codemirror_mode": {
    "name": "ipython",
    "version": 3
   },
   "file_extension": ".py",
   "mimetype": "text/x-python",
   "name": "python",
   "nbconvert_exporter": "python",
   "pygments_lexer": "ipython3",
   "version": "3.8.3"
  }
 },
 "nbformat": 4,
 "nbformat_minor": 4
}
